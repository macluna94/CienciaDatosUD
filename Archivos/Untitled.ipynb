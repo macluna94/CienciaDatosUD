{
 "cells": [
  {
   "cell_type": "code",
   "execution_count": 1,
   "id": "f67504b7-2388-4412-ab0c-1eb6bcfac54e",
   "metadata": {},
   "outputs": [],
   "source": [
    "numeros = [10,20,30,40,50]"
   ]
  },
  {
   "cell_type": "code",
   "execution_count": 2,
   "id": "f7319be4-a5a0-4ec9-93c5-0edfb4e1f331",
   "metadata": {},
   "outputs": [
    {
     "data": {
      "text/plain": [
       "[10, 20, 30, 40, 50]"
      ]
     },
     "execution_count": 2,
     "metadata": {},
     "output_type": "execute_result"
    }
   ],
   "source": [
    "numeros"
   ]
  },
  {
   "cell_type": "code",
   "execution_count": 3,
   "id": "5497324a-ffed-4804-b7d5-0fcec1e79dee",
   "metadata": {},
   "outputs": [
    {
     "data": {
      "text/plain": [
       "150"
      ]
     },
     "execution_count": 3,
     "metadata": {},
     "output_type": "execute_result"
    }
   ],
   "source": [
    "sum(numeros)"
   ]
  },
  {
   "cell_type": "code",
   "execution_count": 5,
   "id": "19a75c4b-9108-412d-97b9-8903082f6099",
   "metadata": {},
   "outputs": [],
   "source": [
    "avrg = sum(numeros)/len(numeros)"
   ]
  },
  {
   "cell_type": "code",
   "execution_count": 6,
   "id": "de2deea3-3e40-4836-9760-a2c4e943c209",
   "metadata": {},
   "outputs": [
    {
     "data": {
      "text/plain": [
       "30.0"
      ]
     },
     "execution_count": 6,
     "metadata": {},
     "output_type": "execute_result"
    }
   ],
   "source": [
    "avrg"
   ]
  },
  {
   "cell_type": "code",
   "execution_count": 7,
   "id": "76d96d0a-b4a7-4d01-962d-5f6b46fff54c",
   "metadata": {},
   "outputs": [
    {
     "data": {
      "text/plain": [
       "50"
      ]
     },
     "execution_count": 7,
     "metadata": {},
     "output_type": "execute_result"
    }
   ],
   "source": [
    "max(numeros)"
   ]
  },
  {
   "cell_type": "code",
   "execution_count": 9,
   "id": "336c3314-ec91-4f40-a805-fedb98113038",
   "metadata": {},
   "outputs": [
    {
     "name": "stdout",
     "output_type": "stream",
     "text": [
      "Numeros: [10, 20, 30, 40, 50] \n",
      "Suma:  150 \n",
      "Maximo:  50 \n",
      "Promedio: 30.0\n"
     ]
    }
   ],
   "source": [
    "print(f\"Numeros: {numeros} \\nSuma: \", sum(numeros),\"\\nMaximo: \",max(numeros), f\"\\nPromedio: {avrg}\")"
   ]
  },
  {
   "cell_type": "code",
   "execution_count": 13,
   "id": "b9a5dbd1-dd0c-47fa-bb2b-68bcf3994c2f",
   "metadata": {},
   "outputs": [
    {
     "name": "stdout",
     "output_type": "stream",
     "text": [
      "20\n",
      "40\n",
      "60\n",
      "80\n",
      "100\n"
     ]
    }
   ],
   "source": [
    "for n in numeros:\n",
    "    print(n*2)"
   ]
  },
  {
   "cell_type": "code",
   "execution_count": 18,
   "id": "2d17ccda-d551-4227-9392-7ca3fca7fdc5",
   "metadata": {},
   "outputs": [
    {
     "name": "stdout",
     "output_type": "stream",
     "text": [
      "1\n",
      "2\n",
      "3\n",
      "4\n",
      "5\n",
      "6\n",
      "7\n",
      "8\n",
      "9\n",
      "10\n"
     ]
    }
   ],
   "source": [
    "x = 0\n",
    "while x < 10:\n",
    "    x = x+1\n",
    "    print(x)"
   ]
  },
  {
   "cell_type": "code",
   "execution_count": 19,
   "id": "b3f09acf-5fb0-4b57-8afe-0967dc72e467",
   "metadata": {},
   "outputs": [
    {
     "data": {
      "text/plain": [
       "[1, 2, 3, 4, 5, 6, 7, 8, 9, 10]"
      ]
     },
     "execution_count": 19,
     "metadata": {},
     "output_type": "execute_result"
    }
   ],
   "source": [
    "list(range(1,11))"
   ]
  },
  {
   "cell_type": "code",
   "execution_count": 24,
   "id": "e4b7e779-1975-4485-b09a-f4c709647d21",
   "metadata": {},
   "outputs": [
    {
     "name": "stdout",
     "output_type": "stream",
     "text": [
      "1 o\n",
      "2 x\n",
      "3 o\n",
      "4 x\n",
      "5 o\n",
      "6 x\n",
      "7 o\n",
      "8 x\n",
      "9 o\n",
      "10 x\n"
     ]
    }
   ],
   "source": [
    "for n in range(1,11):\n",
    "    if n % 2 == 0:\n",
    "        print(n, \"x\")\n",
    "    else:\n",
    "        print(n,\"o\")"
   ]
  },
  {
   "cell_type": "code",
   "execution_count": null,
   "id": "530c06f0-f8db-4c73-8a99-ae0406d316a8",
   "metadata": {},
   "outputs": [],
   "source": []
  },
  {
   "cell_type": "code",
   "execution_count": null,
   "id": "718559b5-f8fe-4ea2-b1e8-4d60f7cf3573",
   "metadata": {},
   "outputs": [],
   "source": []
  },
  {
   "cell_type": "code",
   "execution_count": null,
   "id": "93a3a4a9-39ae-4f23-99f7-18565ac60708",
   "metadata": {},
   "outputs": [],
   "source": []
  },
  {
   "cell_type": "code",
   "execution_count": null,
   "id": "946e1695-a04b-478f-beba-f24303c162b5",
   "metadata": {},
   "outputs": [],
   "source": []
  },
  {
   "cell_type": "code",
   "execution_count": null,
   "id": "30c26a87-5ffb-4957-ae09-07f0f4e5311d",
   "metadata": {},
   "outputs": [],
   "source": []
  },
  {
   "cell_type": "code",
   "execution_count": null,
   "id": "db77159f-f190-41ea-a6ae-70b1d6f84151",
   "metadata": {},
   "outputs": [],
   "source": []
  },
  {
   "cell_type": "code",
   "execution_count": null,
   "id": "c095364c-500e-4306-b250-b941cb5fd72b",
   "metadata": {},
   "outputs": [],
   "source": []
  },
  {
   "cell_type": "code",
   "execution_count": null,
   "id": "bcfb3c25-a3b9-4cb7-9514-daad94c5e135",
   "metadata": {},
   "outputs": [],
   "source": []
  },
  {
   "cell_type": "code",
   "execution_count": null,
   "id": "b51f569a-07ca-472d-a634-e535fad57bcd",
   "metadata": {},
   "outputs": [],
   "source": []
  },
  {
   "cell_type": "code",
   "execution_count": null,
   "id": "a87ed98f-4fab-4ef4-8d6d-7e02c62ce04d",
   "metadata": {},
   "outputs": [],
   "source": []
  },
  {
   "cell_type": "code",
   "execution_count": null,
   "id": "32c52d34-454c-42d3-80a8-f07023345429",
   "metadata": {},
   "outputs": [],
   "source": []
  },
  {
   "cell_type": "code",
   "execution_count": null,
   "id": "feb7f321-0b79-4de7-b804-ba8a6cc91f41",
   "metadata": {},
   "outputs": [],
   "source": []
  },
  {
   "cell_type": "code",
   "execution_count": null,
   "id": "e59f5b6b-5901-4e09-90c7-672cbfb3fbd6",
   "metadata": {},
   "outputs": [],
   "source": []
  },
  {
   "cell_type": "code",
   "execution_count": null,
   "id": "a8e6afd4-d6e5-41f9-adc0-033eed9998c9",
   "metadata": {},
   "outputs": [],
   "source": []
  }
 ],
 "metadata": {
  "kernelspec": {
   "display_name": "Python 3 (ipykernel)",
   "language": "python",
   "name": "python3"
  },
  "language_info": {
   "codemirror_mode": {
    "name": "ipython",
    "version": 3
   },
   "file_extension": ".py",
   "mimetype": "text/x-python",
   "name": "python",
   "nbconvert_exporter": "python",
   "pygments_lexer": "ipython3",
   "version": "3.13.1"
  }
 },
 "nbformat": 4,
 "nbformat_minor": 5
}
