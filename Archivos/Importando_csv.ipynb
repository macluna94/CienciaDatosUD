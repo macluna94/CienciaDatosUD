{
 "cells": [
  {
   "cell_type": "code",
   "execution_count": 1,
   "id": "4d324f02-249e-4362-9ce9-a043f3e2011a",
   "metadata": {},
   "outputs": [],
   "source": [
    "import pandas as pd"
   ]
  },
  {
   "cell_type": "code",
   "execution_count": 3,
   "id": "4ad69c45-216a-4383-9dd8-8704bbace5c0",
   "metadata": {},
   "outputs": [],
   "source": [
    "tlevisa = pd.read_csv('C:/Users/manuell/Videos/CienciaDatos_AN/televisa.csv')"
   ]
  },
  {
   "cell_type": "code",
   "execution_count": 4,
   "id": "58952434-4bac-47a8-8ca3-895644e665f5",
   "metadata": {},
   "outputs": [
    {
     "data": {
      "text/html": [
       "<div>\n",
       "<style scoped>\n",
       "    .dataframe tbody tr th:only-of-type {\n",
       "        vertical-align: middle;\n",
       "    }\n",
       "\n",
       "    .dataframe tbody tr th {\n",
       "        vertical-align: top;\n",
       "    }\n",
       "\n",
       "    .dataframe thead th {\n",
       "        text-align: right;\n",
       "    }\n",
       "</style>\n",
       "<table border=\"1\" class=\"dataframe\">\n",
       "  <thead>\n",
       "    <tr style=\"text-align: right;\">\n",
       "      <th></th>\n",
       "      <th>Date</th>\n",
       "      <th>TLEVISACPO.MX</th>\n",
       "    </tr>\n",
       "  </thead>\n",
       "  <tbody>\n",
       "    <tr>\n",
       "      <th>0</th>\n",
       "      <td>January 2020</td>\n",
       "      <td>42.102604</td>\n",
       "    </tr>\n",
       "    <tr>\n",
       "      <th>1</th>\n",
       "      <td>January 2020</td>\n",
       "      <td>42.195892</td>\n",
       "    </tr>\n",
       "    <tr>\n",
       "      <th>2</th>\n",
       "      <td>January 2020</td>\n",
       "      <td>41.482212</td>\n",
       "    </tr>\n",
       "    <tr>\n",
       "      <th>3</th>\n",
       "      <td>January 2020</td>\n",
       "      <td>40.665909</td>\n",
       "    </tr>\n",
       "    <tr>\n",
       "      <th>4</th>\n",
       "      <td>January 2020</td>\n",
       "      <td>41.113712</td>\n",
       "    </tr>\n",
       "    <tr>\n",
       "      <th>...</th>\n",
       "      <td>...</td>\n",
       "      <td>...</td>\n",
       "    </tr>\n",
       "    <tr>\n",
       "      <th>1051</th>\n",
       "      <td>January 2024</td>\n",
       "      <td>9.600589</td>\n",
       "    </tr>\n",
       "    <tr>\n",
       "      <th>1052</th>\n",
       "      <td>January 2024</td>\n",
       "      <td>9.774794</td>\n",
       "    </tr>\n",
       "    <tr>\n",
       "      <th>1053</th>\n",
       "      <td>January 2024</td>\n",
       "      <td>10.578068</td>\n",
       "    </tr>\n",
       "    <tr>\n",
       "      <th>1054</th>\n",
       "      <td>January 2024</td>\n",
       "      <td>10.655492</td>\n",
       "    </tr>\n",
       "    <tr>\n",
       "      <th>1055</th>\n",
       "      <td>January 2024</td>\n",
       "      <td>10.452254</td>\n",
       "    </tr>\n",
       "  </tbody>\n",
       "</table>\n",
       "<p>1056 rows × 2 columns</p>\n",
       "</div>"
      ],
      "text/plain": [
       "              Date  TLEVISACPO.MX\n",
       "0     January 2020      42.102604\n",
       "1     January 2020      42.195892\n",
       "2     January 2020      41.482212\n",
       "3     January 2020      40.665909\n",
       "4     January 2020      41.113712\n",
       "...            ...            ...\n",
       "1051  January 2024       9.600589\n",
       "1052  January 2024       9.774794\n",
       "1053  January 2024      10.578068\n",
       "1054  January 2024      10.655492\n",
       "1055  January 2024      10.452254\n",
       "\n",
       "[1056 rows x 2 columns]"
      ]
     },
     "execution_count": 4,
     "metadata": {},
     "output_type": "execute_result"
    }
   ],
   "source": [
    "tlevisa"
   ]
  },
  {
   "cell_type": "code",
   "execution_count": 5,
   "id": "c6fb8e59-a156-4739-8b93-6caee52a2100",
   "metadata": {},
   "outputs": [],
   "source": [
    "tlevisa2 = pd.read_csv('C:/Users/manuell/Videos/CienciaDatos_AN/televisa.csv', index_col ='Date')"
   ]
  },
  {
   "cell_type": "code",
   "execution_count": 6,
   "id": "9dbfe601-4683-4f3d-a444-e707c1a884da",
   "metadata": {},
   "outputs": [
    {
     "data": {
      "text/html": [
       "<div>\n",
       "<style scoped>\n",
       "    .dataframe tbody tr th:only-of-type {\n",
       "        vertical-align: middle;\n",
       "    }\n",
       "\n",
       "    .dataframe tbody tr th {\n",
       "        vertical-align: top;\n",
       "    }\n",
       "\n",
       "    .dataframe thead th {\n",
       "        text-align: right;\n",
       "    }\n",
       "</style>\n",
       "<table border=\"1\" class=\"dataframe\">\n",
       "  <thead>\n",
       "    <tr style=\"text-align: right;\">\n",
       "      <th></th>\n",
       "      <th>TLEVISACPO.MX</th>\n",
       "    </tr>\n",
       "    <tr>\n",
       "      <th>Date</th>\n",
       "      <th></th>\n",
       "    </tr>\n",
       "  </thead>\n",
       "  <tbody>\n",
       "    <tr>\n",
       "      <th>January 2020</th>\n",
       "      <td>42.102604</td>\n",
       "    </tr>\n",
       "    <tr>\n",
       "      <th>January 2020</th>\n",
       "      <td>42.195892</td>\n",
       "    </tr>\n",
       "    <tr>\n",
       "      <th>January 2020</th>\n",
       "      <td>41.482212</td>\n",
       "    </tr>\n",
       "    <tr>\n",
       "      <th>January 2020</th>\n",
       "      <td>40.665909</td>\n",
       "    </tr>\n",
       "    <tr>\n",
       "      <th>January 2020</th>\n",
       "      <td>41.113712</td>\n",
       "    </tr>\n",
       "    <tr>\n",
       "      <th>...</th>\n",
       "      <td>...</td>\n",
       "    </tr>\n",
       "    <tr>\n",
       "      <th>January 2024</th>\n",
       "      <td>9.600589</td>\n",
       "    </tr>\n",
       "    <tr>\n",
       "      <th>January 2024</th>\n",
       "      <td>9.774794</td>\n",
       "    </tr>\n",
       "    <tr>\n",
       "      <th>January 2024</th>\n",
       "      <td>10.578068</td>\n",
       "    </tr>\n",
       "    <tr>\n",
       "      <th>January 2024</th>\n",
       "      <td>10.655492</td>\n",
       "    </tr>\n",
       "    <tr>\n",
       "      <th>January 2024</th>\n",
       "      <td>10.452254</td>\n",
       "    </tr>\n",
       "  </tbody>\n",
       "</table>\n",
       "<p>1056 rows × 1 columns</p>\n",
       "</div>"
      ],
      "text/plain": [
       "              TLEVISACPO.MX\n",
       "Date                       \n",
       "January 2020      42.102604\n",
       "January 2020      42.195892\n",
       "January 2020      41.482212\n",
       "January 2020      40.665909\n",
       "January 2020      41.113712\n",
       "...                     ...\n",
       "January 2024       9.600589\n",
       "January 2024       9.774794\n",
       "January 2024      10.578068\n",
       "January 2024      10.655492\n",
       "January 2024      10.452254\n",
       "\n",
       "[1056 rows x 1 columns]"
      ]
     },
     "execution_count": 6,
     "metadata": {},
     "output_type": "execute_result"
    }
   ],
   "source": [
    "tlevisa2"
   ]
  },
  {
   "cell_type": "code",
   "execution_count": 1,
   "id": "51251c8f-67d3-4346-b2e7-a78e73104fed",
   "metadata": {},
   "outputs": [
    {
     "ename": "NameError",
     "evalue": "name 'tlevisa' is not defined",
     "output_type": "error",
     "traceback": [
      "\u001b[1;31m---------------------------------------------------------------------------\u001b[0m",
      "\u001b[1;31mNameError\u001b[0m                                 Traceback (most recent call last)",
      "Cell \u001b[1;32mIn[1], line 1\u001b[0m\n\u001b[1;32m----> 1\u001b[0m \u001b[43mtlevisa\u001b[49m\u001b[38;5;241m.\u001b[39mset_index(\u001b[38;5;124m'\u001b[39m\u001b[38;5;124mDate\u001b[39m\u001b[38;5;124m'\u001b[39m)\n",
      "\u001b[1;31mNameError\u001b[0m: name 'tlevisa' is not defined"
     ]
    }
   ],
   "source": [
    "tlevisa.set_index('Date')"
   ]
  },
  {
   "cell_type": "code",
   "execution_count": null,
   "id": "3a16bb8f-bdcc-4149-8096-22c7301f3726",
   "metadata": {},
   "outputs": [],
   "source": []
  }
 ],
 "metadata": {
  "kernelspec": {
   "display_name": "Python 3 (ipykernel)",
   "language": "python",
   "name": "python3"
  },
  "language_info": {
   "codemirror_mode": {
    "name": "ipython",
    "version": 3
   },
   "file_extension": ".py",
   "mimetype": "text/x-python",
   "name": "python",
   "nbconvert_exporter": "python",
   "pygments_lexer": "ipython3",
   "version": "3.13.1"
  }
 },
 "nbformat": 4,
 "nbformat_minor": 5
}
