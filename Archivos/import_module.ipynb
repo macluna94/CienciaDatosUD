{
 "cells": [
  {
   "cell_type": "code",
   "execution_count": 1,
   "id": "e8e94167-2ec5-43cb-b065-aaa7fbdba690",
   "metadata": {},
   "outputs": [],
   "source": [
    "import math"
   ]
  },
  {
   "cell_type": "code",
   "execution_count": 2,
   "id": "93223372-7de9-478a-aad3-54eb8748e187",
   "metadata": {},
   "outputs": [
    {
     "data": {
      "text/plain": [
       "3.0"
      ]
     },
     "execution_count": 2,
     "metadata": {},
     "output_type": "execute_result"
    }
   ],
   "source": [
    "math.sqrt(9)"
   ]
  },
  {
   "cell_type": "code",
   "execution_count": 3,
   "id": "07f2dd35-4910-44cd-9c12-d58a229e0ffb",
   "metadata": {},
   "outputs": [],
   "source": [
    "import math as mates"
   ]
  },
  {
   "cell_type": "code",
   "execution_count": 4,
   "id": "d25f1498-fd64-4736-9b0a-92e1aaaf6f3d",
   "metadata": {},
   "outputs": [
    {
     "data": {
      "text/plain": [
       "7.0"
      ]
     },
     "execution_count": 4,
     "metadata": {},
     "output_type": "execute_result"
    }
   ],
   "source": [
    "mates.sqrt(49)"
   ]
  },
  {
   "cell_type": "code",
   "execution_count": null,
   "id": "e71bde53-1c7d-4f83-8948-61840fcb31ae",
   "metadata": {},
   "outputs": [],
   "source": []
  }
 ],
 "metadata": {
  "kernelspec": {
   "display_name": "Python 3 (ipykernel)",
   "language": "python",
   "name": "python3"
  },
  "language_info": {
   "codemirror_mode": {
    "name": "ipython",
    "version": 3
   },
   "file_extension": ".py",
   "mimetype": "text/x-python",
   "name": "python",
   "nbconvert_exporter": "python",
   "pygments_lexer": "ipython3",
   "version": "3.13.1"
  }
 },
 "nbformat": 4,
 "nbformat_minor": 5
}
