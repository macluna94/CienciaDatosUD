{
 "cells": [
  {
   "cell_type": "code",
   "execution_count": 1,
   "id": "3e27bfe1-670a-4854-9635-5dcc700887b0",
   "metadata": {},
   "outputs": [],
   "source": [
    "import random"
   ]
  },
  {
   "cell_type": "code",
   "execution_count": 2,
   "id": "33037a76-70ef-448c-aa84-9b6c6cf8207d",
   "metadata": {},
   "outputs": [],
   "source": [
    "probabili = random.random()"
   ]
  },
  {
   "cell_type": "code",
   "execution_count": 3,
   "id": "bab3793a-c4b3-4d18-98f0-fabd117c33ac",
   "metadata": {},
   "outputs": [
    {
     "data": {
      "text/plain": [
       "0.04125834989007082"
      ]
     },
     "execution_count": 3,
     "metadata": {},
     "output_type": "execute_result"
    }
   ],
   "source": [
    "probabili"
   ]
  },
  {
   "cell_type": "code",
   "execution_count": 17,
   "id": "8c0af3cc-a287-4921-adc6-9ebd03aa545e",
   "metadata": {},
   "outputs": [
    {
     "data": {
      "text/plain": [
       "6"
      ]
     },
     "execution_count": 17,
     "metadata": {},
     "output_type": "execute_result"
    }
   ],
   "source": [
    "dados = random.randint(1,6)\n",
    "dados"
   ]
  },
  {
   "cell_type": "code",
   "execution_count": 18,
   "id": "daf1f968-bdba-4b3c-aebe-7be7abb8c4cb",
   "metadata": {},
   "outputs": [],
   "source": [
    "import numpy as np"
   ]
  },
  {
   "cell_type": "code",
   "execution_count": 19,
   "id": "347d619f-4f6d-4773-a939-66b78fff7f28",
   "metadata": {},
   "outputs": [
    {
     "data": {
      "text/plain": [
       "array([[3, 4, 3, 1, 1, 2, 3],\n",
       "       [1, 4, 4, 5, 4, 2, 5],\n",
       "       [5, 2, 1, 5, 3, 4, 4],\n",
       "       [1, 4, 2, 2, 1, 1, 4]], dtype=int32)"
      ]
     },
     "execution_count": 19,
     "metadata": {},
     "output_type": "execute_result"
    }
   ],
   "source": [
    "np.random.randint(1,6,(4,7))"
   ]
  },
  {
   "cell_type": "code",
   "execution_count": null,
   "id": "de36eb45-5277-40a1-8b4b-8f80104bfe09",
   "metadata": {},
   "outputs": [],
   "source": []
  },
  {
   "cell_type": "code",
   "execution_count": null,
   "id": "5d90bb47-d7f6-4d1a-9007-a1e94905bed0",
   "metadata": {},
   "outputs": [],
   "source": []
  }
 ],
 "metadata": {
  "kernelspec": {
   "display_name": "Python 3 (ipykernel)",
   "language": "python",
   "name": "python3"
  },
  "language_info": {
   "codemirror_mode": {
    "name": "ipython",
    "version": 3
   },
   "file_extension": ".py",
   "mimetype": "text/x-python",
   "name": "python",
   "nbconvert_exporter": "python",
   "pygments_lexer": "ipython3",
   "version": "3.13.1"
  }
 },
 "nbformat": 4,
 "nbformat_minor": 5
}
