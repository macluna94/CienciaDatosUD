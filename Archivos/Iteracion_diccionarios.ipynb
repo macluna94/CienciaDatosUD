{
 "cells": [
  {
   "cell_type": "code",
   "execution_count": 11,
   "id": "c386b70f-f4c1-4c3d-949a-96e174a071ac",
   "metadata": {},
   "outputs": [],
   "source": [
    "precios = {\n",
    "    \"boj\": 50,\n",
    "    \"licuala\": 7,\n",
    "    \"sansiviera\": 7\n",
    "}"
   ]
  },
  {
   "cell_type": "code",
   "execution_count": 12,
   "id": "02c0b03b-a8f3-46a6-8b2e-a86b665ba6ca",
   "metadata": {},
   "outputs": [],
   "source": [
    "cantidades = {\n",
    "        \"boj\": 2,\n",
    "    \"licuala\": 2,\n",
    "    \"sansiviera\": 4\n",
    "}"
   ]
  },
  {
   "cell_type": "code",
   "execution_count": 13,
   "id": "ab69e081-5d15-48d8-a653-e5e5a206b04f",
   "metadata": {},
   "outputs": [],
   "source": [
    "totalcompra = 0"
   ]
  },
  {
   "cell_type": "code",
   "execution_count": 14,
   "id": "847c51f6-1b37-4b7c-a076-6a5bf7a8d6f7",
   "metadata": {},
   "outputs": [],
   "source": [
    "for i in precios:\n",
    "    totalcompra = totalcompra + (precios[i] * cantidades[i])\n"
   ]
  },
  {
   "cell_type": "code",
   "execution_count": 15,
   "id": "bafd8373-806e-4005-aba3-5d5ddd8c4148",
   "metadata": {},
   "outputs": [
    {
     "name": "stdout",
     "output_type": "stream",
     "text": [
      "142\n"
     ]
    }
   ],
   "source": [
    "print(totalcompra)"
   ]
  },
  {
   "cell_type": "code",
   "execution_count": null,
   "id": "f82e5784-219c-416f-82e0-baf8e9c001fc",
   "metadata": {},
   "outputs": [],
   "source": []
  }
 ],
 "metadata": {
  "kernelspec": {
   "display_name": "Python 3 (ipykernel)",
   "language": "python",
   "name": "python3"
  },
  "language_info": {
   "codemirror_mode": {
    "name": "ipython",
    "version": 3
   },
   "file_extension": ".py",
   "mimetype": "text/x-python",
   "name": "python",
   "nbconvert_exporter": "python",
   "pygments_lexer": "ipython3",
   "version": "3.13.1"
  }
 },
 "nbformat": 4,
 "nbformat_minor": 5
}
