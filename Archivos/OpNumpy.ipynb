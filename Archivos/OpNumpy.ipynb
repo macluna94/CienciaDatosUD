{
 "cells": [
  {
   "cell_type": "code",
   "execution_count": 1,
   "id": "d7d532d5-0abe-4b77-91c4-2235ac3edde4",
   "metadata": {},
   "outputs": [],
   "source": [
    "import numpy as np"
   ]
  },
  {
   "cell_type": "code",
   "execution_count": 16,
   "id": "df47339d-25de-48b9-b2bd-33fa9ab7146f",
   "metadata": {},
   "outputs": [],
   "source": [
    "ventas = [[100, 120, 90], [80, 95, 170]]"
   ]
  },
  {
   "cell_type": "code",
   "execution_count": 17,
   "id": "e498081a-bb86-4ebe-8f31-38b4073d25e9",
   "metadata": {},
   "outputs": [],
   "source": [
    "ventasnp = np.array(ventas)"
   ]
  },
  {
   "cell_type": "code",
   "execution_count": 18,
   "id": "93c81bf9-5b35-494a-8119-b632358bd6a9",
   "metadata": {},
   "outputs": [
    {
     "name": "stdout",
     "output_type": "stream",
     "text": [
      "Producto: # 1\n",
      "Total dde Ventas:  310\n",
      "Promedia de Ventas Mensuales:  103.33333333333333\n",
      "Max Vta:  2 \n",
      "\n",
      "Producto: # 2\n",
      "Total dde Ventas:  345\n",
      "Promedia de Ventas Mensuales:  115.0\n",
      "Max Vta:  3 \n",
      "\n"
     ]
    }
   ],
   "source": [
    "for prodId, prodVta in enumerate(ventasnp, start=1):\n",
    "    print(\"Producto: #\",prodId)\n",
    "    print(\"Total dde Ventas: \",np.sum(prodVta))\n",
    "    print(\"Promedia de Ventas Mensuales: \", np.mean(prodVta))\n",
    "    print(\"Max Vta: \", np.argmax(prodVta)+1, \"\\n\")"
   ]
  },
  {
   "cell_type": "code",
   "execution_count": null,
   "id": "f1707f6a-b174-4282-aaeb-ae7cac5e9779",
   "metadata": {},
   "outputs": [],
   "source": []
  }
 ],
 "metadata": {
  "kernelspec": {
   "display_name": "Python 3 (ipykernel)",
   "language": "python",
   "name": "python3"
  },
  "language_info": {
   "codemirror_mode": {
    "name": "ipython",
    "version": 3
   },
   "file_extension": ".py",
   "mimetype": "text/x-python",
   "name": "python",
   "nbconvert_exporter": "python",
   "pygments_lexer": "ipython3",
   "version": "3.13.1"
  }
 },
 "nbformat": 4,
 "nbformat_minor": 5
}
