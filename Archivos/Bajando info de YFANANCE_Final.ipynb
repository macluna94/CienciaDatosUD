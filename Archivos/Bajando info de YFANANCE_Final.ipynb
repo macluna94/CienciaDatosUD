{
 "cells": [
  {
   "cell_type": "code",
   "execution_count": 34,
   "id": "4dc2f4ab-7b6d-4098-9329-f805f72726d3",
   "metadata": {},
   "outputs": [],
   "source": [
    "import yfinance as yf\n",
    "import pandas as pd\n",
    "from pandas_datareader import data as pdr\n",
    "import openpyxl"
   ]
  },
  {
   "cell_type": "code",
   "execution_count": 35,
   "id": "e1f46dcd-4b36-4e05-9be8-468c65a2c8c9",
   "metadata": {},
   "outputs": [],
   "source": [
    "tickers = [\"AMX\", \"WALMEX.MX\", \"FEMSAUBD.MX\", \"GMEXICOB.MX\", \"GFNORTEO.MX\", \n",
    "           \"BIMBOA.MX\", \"CEMEXCPO.MX\", \"TLEVISACPO.MX\", \"KOF\", \"ALSEA.MX\"]"
   ]
  },
  {
   "cell_type": "code",
   "execution_count": 36,
   "id": "93eceae0-b9e9-493d-a248-6cf81786e630",
   "metadata": {},
   "outputs": [],
   "source": [
    "start_date = \"2020-01-01\"\n",
    "end_date = \"2024-01-31\""
   ]
  },
  {
   "cell_type": "code",
   "execution_count": 37,
   "id": "e2019881-32ca-4b50-95c7-4f025f67a933",
   "metadata": {},
   "outputs": [
    {
     "name": "stderr",
     "output_type": "stream",
     "text": [
      "[*********************100%***********************]  10 of 10 completed\n"
     ]
    }
   ],
   "source": [
    "data = yf.download(tickers, start=start_date, end=end_date, auto_adjust=False)['Adj Close']"
   ]
  },
  {
   "cell_type": "code",
   "execution_count": 38,
   "id": "7f2f00d9-ddba-444a-a0b0-fb237669af9d",
   "metadata": {},
   "outputs": [
    {
     "data": {
      "text/plain": [
       "Index(['ALSEA.MX', 'AMX', 'BIMBOA.MX', 'CEMEXCPO.MX', 'FEMSAUBD.MX',\n",
       "       'GFNORTEO.MX', 'GMEXICOB.MX', 'KOF', 'TLEVISACPO.MX', 'WALMEX.MX'],\n",
       "      dtype='object', name='Ticker')"
      ]
     },
     "execution_count": 38,
     "metadata": {},
     "output_type": "execute_result"
    }
   ],
   "source": [
    "data.columns"
   ]
  },
  {
   "cell_type": "code",
   "execution_count": 39,
   "id": "11203048-489e-44f6-aeb9-40b372d2fd3b",
   "metadata": {},
   "outputs": [
    {
     "data": {
      "text/html": [
       "<div>\n",
       "<style scoped>\n",
       "    .dataframe tbody tr th:only-of-type {\n",
       "        vertical-align: middle;\n",
       "    }\n",
       "\n",
       "    .dataframe tbody tr th {\n",
       "        vertical-align: top;\n",
       "    }\n",
       "\n",
       "    .dataframe thead th {\n",
       "        text-align: right;\n",
       "    }\n",
       "</style>\n",
       "<table border=\"1\" class=\"dataframe\">\n",
       "  <thead>\n",
       "    <tr style=\"text-align: right;\">\n",
       "      <th>Ticker</th>\n",
       "      <th>ALSEA.MX</th>\n",
       "      <th>AMX</th>\n",
       "      <th>BIMBOA.MX</th>\n",
       "      <th>CEMEXCPO.MX</th>\n",
       "      <th>FEMSAUBD.MX</th>\n",
       "      <th>GFNORTEO.MX</th>\n",
       "      <th>GMEXICOB.MX</th>\n",
       "      <th>KOF</th>\n",
       "      <th>TLEVISACPO.MX</th>\n",
       "      <th>WALMEX.MX</th>\n",
       "    </tr>\n",
       "    <tr>\n",
       "      <th>Date</th>\n",
       "      <th></th>\n",
       "      <th></th>\n",
       "      <th></th>\n",
       "      <th></th>\n",
       "      <th></th>\n",
       "      <th></th>\n",
       "      <th></th>\n",
       "      <th></th>\n",
       "      <th></th>\n",
       "      <th></th>\n",
       "    </tr>\n",
       "  </thead>\n",
       "  <tbody>\n",
       "    <tr>\n",
       "      <th>2020-01-02</th>\n",
       "      <td>50.635143</td>\n",
       "      <td>14.258818</td>\n",
       "      <td>32.664391</td>\n",
       "      <td>7.154995</td>\n",
       "      <td>159.156494</td>\n",
       "      <td>80.294510</td>\n",
       "      <td>40.798939</td>\n",
       "      <td>49.332283</td>\n",
       "      <td>42.102604</td>\n",
       "      <td>49.436100</td>\n",
       "    </tr>\n",
       "    <tr>\n",
       "      <th>2020-01-03</th>\n",
       "      <td>51.038414</td>\n",
       "      <td>14.241280</td>\n",
       "      <td>32.673622</td>\n",
       "      <td>7.184975</td>\n",
       "      <td>160.787598</td>\n",
       "      <td>80.514175</td>\n",
       "      <td>40.897213</td>\n",
       "      <td>49.348370</td>\n",
       "      <td>42.195892</td>\n",
       "      <td>49.050438</td>\n",
       "    </tr>\n",
       "    <tr>\n",
       "      <th>2020-01-06</th>\n",
       "      <td>51.043331</td>\n",
       "      <td>14.171125</td>\n",
       "      <td>32.816811</td>\n",
       "      <td>7.194968</td>\n",
       "      <td>160.691147</td>\n",
       "      <td>80.602043</td>\n",
       "      <td>39.933376</td>\n",
       "      <td>49.284035</td>\n",
       "      <td>41.482212</td>\n",
       "      <td>49.575123</td>\n",
       "    </tr>\n",
       "    <tr>\n",
       "      <th>2020-01-07</th>\n",
       "      <td>51.018742</td>\n",
       "      <td>13.960663</td>\n",
       "      <td>32.378014</td>\n",
       "      <td>7.065059</td>\n",
       "      <td>161.936386</td>\n",
       "      <td>78.258957</td>\n",
       "      <td>40.020306</td>\n",
       "      <td>49.155380</td>\n",
       "      <td>40.665909</td>\n",
       "      <td>49.310532</td>\n",
       "    </tr>\n",
       "    <tr>\n",
       "      <th>2020-01-08</th>\n",
       "      <td>50.753174</td>\n",
       "      <td>13.908047</td>\n",
       "      <td>32.350307</td>\n",
       "      <td>7.194968</td>\n",
       "      <td>160.971725</td>\n",
       "      <td>79.650177</td>\n",
       "      <td>41.093773</td>\n",
       "      <td>49.147335</td>\n",
       "      <td>41.113712</td>\n",
       "      <td>49.965260</td>\n",
       "    </tr>\n",
       "  </tbody>\n",
       "</table>\n",
       "</div>"
      ],
      "text/plain": [
       "Ticker       ALSEA.MX        AMX  BIMBOA.MX  CEMEXCPO.MX  FEMSAUBD.MX  \\\n",
       "Date                                                                    \n",
       "2020-01-02  50.635143  14.258818  32.664391     7.154995   159.156494   \n",
       "2020-01-03  51.038414  14.241280  32.673622     7.184975   160.787598   \n",
       "2020-01-06  51.043331  14.171125  32.816811     7.194968   160.691147   \n",
       "2020-01-07  51.018742  13.960663  32.378014     7.065059   161.936386   \n",
       "2020-01-08  50.753174  13.908047  32.350307     7.194968   160.971725   \n",
       "\n",
       "Ticker      GFNORTEO.MX  GMEXICOB.MX        KOF  TLEVISACPO.MX  WALMEX.MX  \n",
       "Date                                                                       \n",
       "2020-01-02    80.294510    40.798939  49.332283      42.102604  49.436100  \n",
       "2020-01-03    80.514175    40.897213  49.348370      42.195892  49.050438  \n",
       "2020-01-06    80.602043    39.933376  49.284035      41.482212  49.575123  \n",
       "2020-01-07    78.258957    40.020306  49.155380      40.665909  49.310532  \n",
       "2020-01-08    79.650177    41.093773  49.147335      41.113712  49.965260  "
      ]
     },
     "execution_count": 39,
     "metadata": {},
     "output_type": "execute_result"
    }
   ],
   "source": [
    "data.head()"
   ]
  },
  {
   "cell_type": "code",
   "execution_count": 40,
   "id": "a2a55e41-c65a-40b6-a6db-7a2b7e7b70f5",
   "metadata": {},
   "outputs": [],
   "source": [
    "data.index = data.index.strftime('%B %Y')"
   ]
  },
  {
   "cell_type": "code",
   "execution_count": 52,
   "id": "e44e7e79-866a-4cfc-bcdf-b2aea2e9ec28",
   "metadata": {},
   "outputs": [
    {
     "data": {
      "text/plain": [
       "Ticker\n",
       "ALSEA.MX         27\n",
       "AMX              30\n",
       "BIMBOA.MX        27\n",
       "CEMEXCPO.MX      27\n",
       "FEMSAUBD.MX      27\n",
       "GFNORTEO.MX      27\n",
       "GMEXICOB.MX      27\n",
       "KOF              30\n",
       "TLEVISACPO.MX    27\n",
       "WALMEX.MX        27\n",
       "dtype: int64"
      ]
     },
     "execution_count": 52,
     "metadata": {},
     "output_type": "execute_result"
    }
   ],
   "source": [
    "data.isna().sum()"
   ]
  },
  {
   "cell_type": "code",
   "execution_count": 53,
   "id": "a3577aa8-6313-40df-a99d-bb988bf74e55",
   "metadata": {},
   "outputs": [],
   "source": [
    "data.fillna(0, inplace=True)"
   ]
  },
  {
   "cell_type": "code",
   "execution_count": 54,
   "id": "1d9660a2-aaf5-4c53-a381-4b69921b3b40",
   "metadata": {},
   "outputs": [],
   "source": [
    "data.to_excel('matriz_mx101.xlsx')"
   ]
  },
  {
   "cell_type": "code",
   "execution_count": null,
   "id": "3d9a14f5-994b-4d99-ae66-5ab3280392b2",
   "metadata": {},
   "outputs": [],
   "source": []
  }
 ],
 "metadata": {
  "kernelspec": {
   "display_name": "Python 3 (ipykernel)",
   "language": "python",
   "name": "python3"
  },
  "language_info": {
   "codemirror_mode": {
    "name": "ipython",
    "version": 3
   },
   "file_extension": ".py",
   "mimetype": "text/x-python",
   "name": "python",
   "nbconvert_exporter": "python",
   "pygments_lexer": "ipython3",
   "version": "3.13.1"
  }
 },
 "nbformat": 4,
 "nbformat_minor": 5
}
