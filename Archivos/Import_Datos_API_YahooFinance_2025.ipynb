{
 "cells": [
  {
   "cell_type": "markdown",
   "id": "9c91f22a",
   "metadata": {},
   "source": [
    "# Importando Datos desde la API de Yahoo Finance Corregido Septiembre 2023"
   ]
  },
  {
   "cell_type": "code",
   "execution_count": 2,
   "id": "539e8d95",
   "metadata": {},
   "outputs": [],
   "source": [
    "# Instalamos yfinance"
   ]
  },
  {
   "cell_type": "code",
   "execution_count": null,
   "id": "c52cc474",
   "metadata": {},
   "outputs": [],
   "source": [
    "#!pip install yfinance"
   ]
  },
  {
   "cell_type": "code",
   "execution_count": 3,
   "id": "700e9b06",
   "metadata": {},
   "outputs": [],
   "source": [
    "# Importamos yfinance"
   ]
  },
  {
   "cell_type": "code",
   "execution_count": 1,
   "id": "e67c75e1",
   "metadata": {},
   "outputs": [],
   "source": [
    "import yfinance as yf"
   ]
  },
  {
   "cell_type": "code",
   "execution_count": 2,
   "id": "6249c703",
   "metadata": {},
   "outputs": [],
   "source": [
    "# Importa el módulo 'data' de la biblioteca pandas_datareader y lo renombra como 'pdr'"
   ]
  },
  {
   "cell_type": "code",
   "execution_count": 3,
   "id": "55d32846",
   "metadata": {},
   "outputs": [],
   "source": [
    "from pandas_datareader import data as pdr"
   ]
  },
  {
   "cell_type": "code",
   "execution_count": 4,
   "id": "b8ed1a95",
   "metadata": {},
   "outputs": [],
   "source": [
    "# Habilita el override de Yahoo Finance en el módulo pandas_datareader. En programación y computación, \n",
    "# \"override\" se refiere a reemplazar o modificar una funcionalidad existente. En el caso de yf.pdr_override(), \n",
    "# se está modificando el comportamiento predeterminado del módulo pandas_datareader para que utilice Yahoo Finance \n",
    "# como fuente de datos."
   ]
  },
  {
   "cell_type": "code",
   "execution_count": 5,
   "id": "358d1477",
   "metadata": {},
   "outputs": [],
   "source": [
    "# Define una lista de tickers que se utilizarán, incluyendo el de Netflix ('NFLX') y el índice NASDAQ Composite ('^IXIC')."
   ]
  },
  {
   "cell_type": "code",
   "execution_count": 6,
   "id": "7bbb7df1",
   "metadata": {},
   "outputs": [],
   "source": [
    "tickers = ['NFLX', 'TSLA']"
   ]
  },
  {
   "cell_type": "code",
   "execution_count": 7,
   "id": "324bf7b4",
   "metadata": {},
   "outputs": [],
   "source": [
    "# Importa el módulo 'datetime' de la biblioteca estándar de Python para manejar fechas y horas."
   ]
  },
  {
   "cell_type": "code",
   "execution_count": 8,
   "id": "7cedb0dd",
   "metadata": {},
   "outputs": [],
   "source": [
    "from datetime import datetime"
   ]
  },
  {
   "cell_type": "code",
   "execution_count": 9,
   "id": "85006679",
   "metadata": {},
   "outputs": [],
   "source": [
    "# Define las variables 'inicio' y 'fin' con fechas específicas usando el módulo 'datetime'. \n",
    "# 'Inicio' se configura para el 26 de septiembre de 2018 y 'fin' para el 26 de septiembre de 2023."
   ]
  },
  {
   "cell_type": "code",
   "execution_count": 10,
   "id": "c0ea9319",
   "metadata": {},
   "outputs": [],
   "source": [
    "inicio = datetime(2020, 9, 26)\n",
    "fin = datetime(2023, 9, 26)"
   ]
  },
  {
   "cell_type": "code",
   "execution_count": 11,
   "id": "c30cb407",
   "metadata": {},
   "outputs": [],
   "source": [
    "# Utiliza la función 'get_data_yahoo' del módulo 'pdr' para obtener datos de los \n",
    "# tickers especificados entre las fechas 'inicio' y 'fin'."
   ]
  },
  {
   "cell_type": "code",
   "execution_count": 12,
   "id": "47bf9306",
   "metadata": {},
   "outputs": [
    {
     "name": "stdout",
     "output_type": "stream",
     "text": [
      "YF.download() has changed argument auto_adjust default to True\n"
     ]
    },
    {
     "name": "stderr",
     "output_type": "stream",
     "text": [
      "[*********************100%***********************]  2 of 2 completed\n"
     ]
    }
   ],
   "source": [
    "datos = yf.download(tickers, start=inicio, end=fin)"
   ]
  },
  {
   "cell_type": "code",
   "execution_count": 13,
   "id": "3481ab30",
   "metadata": {},
   "outputs": [
    {
     "data": {
      "text/html": [
       "<div>\n",
       "<style scoped>\n",
       "    .dataframe tbody tr th:only-of-type {\n",
       "        vertical-align: middle;\n",
       "    }\n",
       "\n",
       "    .dataframe tbody tr th {\n",
       "        vertical-align: top;\n",
       "    }\n",
       "\n",
       "    .dataframe thead tr th {\n",
       "        text-align: left;\n",
       "    }\n",
       "\n",
       "    .dataframe thead tr:last-of-type th {\n",
       "        text-align: right;\n",
       "    }\n",
       "</style>\n",
       "<table border=\"1\" class=\"dataframe\">\n",
       "  <thead>\n",
       "    <tr>\n",
       "      <th>Price</th>\n",
       "      <th colspan=\"2\" halign=\"left\">Close</th>\n",
       "      <th colspan=\"2\" halign=\"left\">High</th>\n",
       "      <th colspan=\"2\" halign=\"left\">Low</th>\n",
       "      <th colspan=\"2\" halign=\"left\">Open</th>\n",
       "      <th colspan=\"2\" halign=\"left\">Volume</th>\n",
       "    </tr>\n",
       "    <tr>\n",
       "      <th>Ticker</th>\n",
       "      <th>NFLX</th>\n",
       "      <th>TSLA</th>\n",
       "      <th>NFLX</th>\n",
       "      <th>TSLA</th>\n",
       "      <th>NFLX</th>\n",
       "      <th>TSLA</th>\n",
       "      <th>NFLX</th>\n",
       "      <th>TSLA</th>\n",
       "      <th>NFLX</th>\n",
       "      <th>TSLA</th>\n",
       "    </tr>\n",
       "    <tr>\n",
       "      <th>Date</th>\n",
       "      <th></th>\n",
       "      <th></th>\n",
       "      <th></th>\n",
       "      <th></th>\n",
       "      <th></th>\n",
       "      <th></th>\n",
       "      <th></th>\n",
       "      <th></th>\n",
       "      <th></th>\n",
       "      <th></th>\n",
       "    </tr>\n",
       "  </thead>\n",
       "  <tbody>\n",
       "    <tr>\n",
       "      <th>2020-09-28</th>\n",
       "      <td>490.649994</td>\n",
       "      <td>140.399994</td>\n",
       "      <td>492.000000</td>\n",
       "      <td>142.693329</td>\n",
       "      <td>477.880005</td>\n",
       "      <td>138.516663</td>\n",
       "      <td>489.109985</td>\n",
       "      <td>141.539993</td>\n",
       "      <td>4773500</td>\n",
       "      <td>149158800</td>\n",
       "    </tr>\n",
       "    <tr>\n",
       "      <th>2020-09-29</th>\n",
       "      <td>493.480011</td>\n",
       "      <td>139.690002</td>\n",
       "      <td>496.290009</td>\n",
       "      <td>142.833328</td>\n",
       "      <td>486.529999</td>\n",
       "      <td>137.199997</td>\n",
       "      <td>489.500000</td>\n",
       "      <td>138.666672</td>\n",
       "      <td>3541500</td>\n",
       "      <td>150657900</td>\n",
       "    </tr>\n",
       "    <tr>\n",
       "      <th>2020-09-30</th>\n",
       "      <td>500.029999</td>\n",
       "      <td>143.003326</td>\n",
       "      <td>504.630005</td>\n",
       "      <td>144.643326</td>\n",
       "      <td>489.269989</td>\n",
       "      <td>140.156662</td>\n",
       "      <td>492.570007</td>\n",
       "      <td>140.440002</td>\n",
       "      <td>4634100</td>\n",
       "      <td>144436800</td>\n",
       "    </tr>\n",
       "    <tr>\n",
       "      <th>2020-10-01</th>\n",
       "      <td>527.510010</td>\n",
       "      <td>149.386673</td>\n",
       "      <td>529.549988</td>\n",
       "      <td>149.626663</td>\n",
       "      <td>503.600006</td>\n",
       "      <td>144.806671</td>\n",
       "      <td>506.029999</td>\n",
       "      <td>146.919998</td>\n",
       "      <td>8153700</td>\n",
       "      <td>152224500</td>\n",
       "    </tr>\n",
       "    <tr>\n",
       "      <th>2020-10-02</th>\n",
       "      <td>503.059998</td>\n",
       "      <td>138.363327</td>\n",
       "      <td>526.369995</td>\n",
       "      <td>146.376663</td>\n",
       "      <td>502.700012</td>\n",
       "      <td>138.333328</td>\n",
       "      <td>516.429993</td>\n",
       "      <td>140.463333</td>\n",
       "      <td>6071200</td>\n",
       "      <td>214290000</td>\n",
       "    </tr>\n",
       "    <tr>\n",
       "      <th>...</th>\n",
       "      <td>...</td>\n",
       "      <td>...</td>\n",
       "      <td>...</td>\n",
       "      <td>...</td>\n",
       "      <td>...</td>\n",
       "      <td>...</td>\n",
       "      <td>...</td>\n",
       "      <td>...</td>\n",
       "      <td>...</td>\n",
       "      <td>...</td>\n",
       "    </tr>\n",
       "    <tr>\n",
       "      <th>2023-09-19</th>\n",
       "      <td>396.200012</td>\n",
       "      <td>266.500000</td>\n",
       "      <td>398.230011</td>\n",
       "      <td>267.850006</td>\n",
       "      <td>390.250000</td>\n",
       "      <td>261.200012</td>\n",
       "      <td>392.839996</td>\n",
       "      <td>264.350006</td>\n",
       "      <td>4076800</td>\n",
       "      <td>103704000</td>\n",
       "    </tr>\n",
       "    <tr>\n",
       "      <th>2023-09-20</th>\n",
       "      <td>386.299988</td>\n",
       "      <td>262.589996</td>\n",
       "      <td>397.989990</td>\n",
       "      <td>273.929993</td>\n",
       "      <td>386.119995</td>\n",
       "      <td>262.459991</td>\n",
       "      <td>397.049988</td>\n",
       "      <td>267.040009</td>\n",
       "      <td>3866600</td>\n",
       "      <td>122514600</td>\n",
       "    </tr>\n",
       "    <tr>\n",
       "      <th>2023-09-21</th>\n",
       "      <td>384.149994</td>\n",
       "      <td>255.699997</td>\n",
       "      <td>395.899994</td>\n",
       "      <td>260.859985</td>\n",
       "      <td>383.420013</td>\n",
       "      <td>254.210007</td>\n",
       "      <td>386.500000</td>\n",
       "      <td>257.850006</td>\n",
       "      <td>5547900</td>\n",
       "      <td>119531000</td>\n",
       "    </tr>\n",
       "    <tr>\n",
       "      <th>2023-09-22</th>\n",
       "      <td>379.809998</td>\n",
       "      <td>244.880005</td>\n",
       "      <td>386.880005</td>\n",
       "      <td>257.790009</td>\n",
       "      <td>378.359985</td>\n",
       "      <td>244.479996</td>\n",
       "      <td>385.000000</td>\n",
       "      <td>257.399994</td>\n",
       "      <td>3692800</td>\n",
       "      <td>127524100</td>\n",
       "    </tr>\n",
       "    <tr>\n",
       "      <th>2023-09-25</th>\n",
       "      <td>384.799988</td>\n",
       "      <td>246.990005</td>\n",
       "      <td>386.619995</td>\n",
       "      <td>247.100006</td>\n",
       "      <td>380.809998</td>\n",
       "      <td>238.309998</td>\n",
       "      <td>382.899994</td>\n",
       "      <td>243.380005</td>\n",
       "      <td>3757300</td>\n",
       "      <td>104636600</td>\n",
       "    </tr>\n",
       "  </tbody>\n",
       "</table>\n",
       "<p>753 rows × 10 columns</p>\n",
       "</div>"
      ],
      "text/plain": [
       "Price            Close                    High                     Low  \\\n",
       "Ticker            NFLX        TSLA        NFLX        TSLA        NFLX   \n",
       "Date                                                                     \n",
       "2020-09-28  490.649994  140.399994  492.000000  142.693329  477.880005   \n",
       "2020-09-29  493.480011  139.690002  496.290009  142.833328  486.529999   \n",
       "2020-09-30  500.029999  143.003326  504.630005  144.643326  489.269989   \n",
       "2020-10-01  527.510010  149.386673  529.549988  149.626663  503.600006   \n",
       "2020-10-02  503.059998  138.363327  526.369995  146.376663  502.700012   \n",
       "...                ...         ...         ...         ...         ...   \n",
       "2023-09-19  396.200012  266.500000  398.230011  267.850006  390.250000   \n",
       "2023-09-20  386.299988  262.589996  397.989990  273.929993  386.119995   \n",
       "2023-09-21  384.149994  255.699997  395.899994  260.859985  383.420013   \n",
       "2023-09-22  379.809998  244.880005  386.880005  257.790009  378.359985   \n",
       "2023-09-25  384.799988  246.990005  386.619995  247.100006  380.809998   \n",
       "\n",
       "Price                         Open               Volume             \n",
       "Ticker            TSLA        NFLX        TSLA     NFLX       TSLA  \n",
       "Date                                                                \n",
       "2020-09-28  138.516663  489.109985  141.539993  4773500  149158800  \n",
       "2020-09-29  137.199997  489.500000  138.666672  3541500  150657900  \n",
       "2020-09-30  140.156662  492.570007  140.440002  4634100  144436800  \n",
       "2020-10-01  144.806671  506.029999  146.919998  8153700  152224500  \n",
       "2020-10-02  138.333328  516.429993  140.463333  6071200  214290000  \n",
       "...                ...         ...         ...      ...        ...  \n",
       "2023-09-19  261.200012  392.839996  264.350006  4076800  103704000  \n",
       "2023-09-20  262.459991  397.049988  267.040009  3866600  122514600  \n",
       "2023-09-21  254.210007  386.500000  257.850006  5547900  119531000  \n",
       "2023-09-22  244.479996  385.000000  257.399994  3692800  127524100  \n",
       "2023-09-25  238.309998  382.899994  243.380005  3757300  104636600  \n",
       "\n",
       "[753 rows x 10 columns]"
      ]
     },
     "execution_count": 13,
     "metadata": {},
     "output_type": "execute_result"
    }
   ],
   "source": [
    "datos"
   ]
  },
  {
   "cell_type": "code",
   "execution_count": null,
   "id": "a6859ed8-a078-4af7-b6b0-0207ddb13b74",
   "metadata": {},
   "outputs": [],
   "source": []
  },
  {
   "cell_type": "code",
   "execution_count": null,
   "id": "f1b03533",
   "metadata": {},
   "outputs": [],
   "source": []
  }
 ],
 "metadata": {
  "kernelspec": {
   "display_name": "Python 3 (ipykernel)",
   "language": "python",
   "name": "python3"
  },
  "language_info": {
   "codemirror_mode": {
    "name": "ipython",
    "version": 3
   },
   "file_extension": ".py",
   "mimetype": "text/x-python",
   "name": "python",
   "nbconvert_exporter": "python",
   "pygments_lexer": "ipython3",
   "version": "3.13.1"
  }
 },
 "nbformat": 4,
 "nbformat_minor": 5
}
