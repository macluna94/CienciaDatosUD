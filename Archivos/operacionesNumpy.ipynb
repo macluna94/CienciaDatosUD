{
 "cells": [
  {
   "cell_type": "code",
   "execution_count": 1,
   "id": "0c4e5a95-9e6d-48d6-af18-e0827a335d11",
   "metadata": {},
   "outputs": [],
   "source": [
    "import numpy as np"
   ]
  },
  {
   "cell_type": "code",
   "execution_count": 3,
   "id": "bbef258a-0884-46c4-be8b-e31323219913",
   "metadata": {},
   "outputs": [],
   "source": [
    "prim_array = np.array([[0,1,2,3],[4,5,6,7]])"
   ]
  },
  {
   "cell_type": "code",
   "execution_count": 8,
   "id": "c6fedc5f-bfa3-48c4-8973-dd16ba198662",
   "metadata": {},
   "outputs": [
    {
     "data": {
      "text/plain": [
       "array([[ 0,  1,  2,  3],\n",
       "       [ 4, 21,  6,  7]])"
      ]
     },
     "execution_count": 8,
     "metadata": {},
     "output_type": "execute_result"
    }
   ],
   "source": [
    "prim_array"
   ]
  },
  {
   "cell_type": "code",
   "execution_count": 5,
   "id": "086c2843-7da9-4555-b90e-e355bc2a4061",
   "metadata": {},
   "outputs": [
    {
     "data": {
      "text/plain": [
       "(2, 4)"
      ]
     },
     "execution_count": 5,
     "metadata": {},
     "output_type": "execute_result"
    }
   ],
   "source": [
    "prim_array.shape"
   ]
  },
  {
   "cell_type": "code",
   "execution_count": 6,
   "id": "593026f8-199d-4f85-85f9-c5d3ceb198ed",
   "metadata": {},
   "outputs": [
    {
     "data": {
      "text/plain": [
       "np.int64(4)"
      ]
     },
     "execution_count": 6,
     "metadata": {},
     "output_type": "execute_result"
    }
   ],
   "source": [
    "prim_array[1,0]"
   ]
  },
  {
   "cell_type": "code",
   "execution_count": 9,
   "id": "376a5e76-b353-4ab6-bd2f-07bff9f442f9",
   "metadata": {},
   "outputs": [],
   "source": [
    "prim_array[1,1] = 21\n",
    "prim_array[0,0] = 99"
   ]
  },
  {
   "cell_type": "code",
   "execution_count": 10,
   "id": "20d577a7-323f-4c11-bb55-e13f497d576d",
   "metadata": {},
   "outputs": [
    {
     "data": {
      "text/plain": [
       "array([[99,  1,  2,  3],\n",
       "       [ 4, 21,  6,  7]])"
      ]
     },
     "execution_count": 10,
     "metadata": {},
     "output_type": "execute_result"
    }
   ],
   "source": [
    "prim_array"
   ]
  },
  {
   "cell_type": "code",
   "execution_count": 11,
   "id": "b2cca88d-91d0-45c2-968c-5cc9c6c3fbf0",
   "metadata": {},
   "outputs": [
    {
     "data": {
      "text/plain": [
       "array([99,  4])"
      ]
     },
     "execution_count": 11,
     "metadata": {},
     "output_type": "execute_result"
    }
   ],
   "source": [
    "# Columna 1\n",
    "prim_array[:,0]"
   ]
  },
  {
   "cell_type": "code",
   "execution_count": null,
   "id": "663ab2a0-61db-4fd9-af0c-fb4cefbc8452",
   "metadata": {},
   "outputs": [],
   "source": []
  },
  {
   "cell_type": "code",
   "execution_count": null,
   "id": "d2c0daa2-b6f9-4341-bffb-c3747c8a0c83",
   "metadata": {},
   "outputs": [],
   "source": []
  },
  {
   "cell_type": "code",
   "execution_count": null,
   "id": "b08fab70-d537-48cf-8e36-1d1a63b829fb",
   "metadata": {},
   "outputs": [],
   "source": []
  },
  {
   "cell_type": "code",
   "execution_count": null,
   "id": "d67f6847-8305-4fe4-a97d-f093cb979728",
   "metadata": {},
   "outputs": [],
   "source": []
  }
 ],
 "metadata": {
  "kernelspec": {
   "display_name": "Python 3 (ipykernel)",
   "language": "python",
   "name": "python3"
  },
  "language_info": {
   "codemirror_mode": {
    "name": "ipython",
    "version": 3
   },
   "file_extension": ".py",
   "mimetype": "text/x-python",
   "name": "python",
   "nbconvert_exporter": "python",
   "pygments_lexer": "ipython3",
   "version": "3.13.1"
  }
 },
 "nbformat": 4,
 "nbformat_minor": 5
}
