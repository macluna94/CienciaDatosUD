{
 "cells": [
  {
   "cell_type": "markdown",
   "id": "dd296c86-82cd-44eb-adfd-949e55a1fc11",
   "metadata": {},
   "source": [
    "Creacion de vectores y matrices de datos"
   ]
  },
  {
   "cell_type": "code",
   "execution_count": null,
   "id": "ac494bd5-3c58-4d10-87c3-0258a00e34a4",
   "metadata": {},
   "outputs": [],
   "source": [
    "import numpy"
   ]
  },
  {
   "cell_type": "code",
   "execution_count": null,
   "id": "6b03aac0-57c7-49a0-a92e-6d010dd3addb",
   "metadata": {},
   "outputs": [],
   "source": [
    "## Manipulacion y analisis dde datos"
   ]
  },
  {
   "cell_type": "code",
   "execution_count": 2,
   "id": "8f21f7e3-373c-4df0-996c-e262bcb2a915",
   "metadata": {},
   "outputs": [],
   "source": [
    "import pandas"
   ]
  },
  {
   "cell_type": "code",
   "execution_count": 3,
   "id": "5ac0ef18-7c3f-40a6-a64a-b2a3a49aede0",
   "metadata": {},
   "outputs": [],
   "source": [
    "## Generacion de graficos"
   ]
  },
  {
   "cell_type": "code",
   "execution_count": 5,
   "id": "81c94fe8-676c-432e-9bd5-860d39e94fb7",
   "metadata": {},
   "outputs": [],
   "source": [
    "import matplotlib"
   ]
  },
  {
   "cell_type": "code",
   "execution_count": 6,
   "id": "9208ae9f-9438-4f9c-999a-50a3a5d54363",
   "metadata": {},
   "outputs": [],
   "source": [
    "## Librerias adicionales\n",
    "    ## math\n",
    "    ## random\n",
    "    ## statsmodels"
   ]
  },
  {
   "cell_type": "code",
   "execution_count": 8,
   "id": "828bc4e4-44f5-4bc5-a4be-4bfb042c9be2",
   "metadata": {},
   "outputs": [],
   "source": [
    "import math\n",
    "import random\n",
    "import statsmodels"
   ]
  },
  {
   "cell_type": "code",
   "execution_count": null,
   "id": "5a8586be-61b8-4a16-9158-43fad0549812",
   "metadata": {},
   "outputs": [],
   "source": []
  },
  {
   "cell_type": "code",
   "execution_count": null,
   "id": "358bdb31-7684-4376-900e-5a9c4a5a7a2a",
   "metadata": {},
   "outputs": [],
   "source": []
  },
  {
   "cell_type": "code",
   "execution_count": null,
   "id": "590e44f6-c02f-4eab-aaa4-65fee5fc3735",
   "metadata": {},
   "outputs": [],
   "source": []
  }
 ],
 "metadata": {
  "kernelspec": {
   "display_name": "Python 3 (ipykernel)",
   "language": "python",
   "name": "python3"
  },
  "language_info": {
   "codemirror_mode": {
    "name": "ipython",
    "version": 3
   },
   "file_extension": ".py",
   "mimetype": "text/x-python",
   "name": "python",
   "nbconvert_exporter": "python",
   "pygments_lexer": "ipython3",
   "version": "3.13.1"
  }
 },
 "nbformat": 4,
 "nbformat_minor": 5
}
