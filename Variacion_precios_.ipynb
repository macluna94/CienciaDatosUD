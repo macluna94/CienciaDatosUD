{
 "cells": [
  {
   "cell_type": "code",
   "execution_count": 4,
   "id": "3243ef6b-b8e5-4ab8-8a09-9c8bdcd3b38d",
   "metadata": {},
   "outputs": [],
   "source": [
    "import random as rd"
   ]
  },
  {
   "cell_type": "code",
   "execution_count": 5,
   "id": "c1ce0137-c192-4a55-a3e3-1427f928a983",
   "metadata": {},
   "outputs": [],
   "source": [
    "precioInicial = 100"
   ]
  },
  {
   "cell_type": "code",
   "execution_count": 37,
   "id": "2468c5e4-fbb9-41e2-a96b-a9bd130919d5",
   "metadata": {},
   "outputs": [],
   "source": [
    "dias = 20"
   ]
  },
  {
   "cell_type": "code",
   "execution_count": 38,
   "id": "7bfa3d3b-961f-437e-86c5-b4059fce48e4",
   "metadata": {},
   "outputs": [],
   "source": [
    "cambioD = rd.uniform(-0.03,0.03)"
   ]
  },
  {
   "cell_type": "code",
   "execution_count": 39,
   "id": "6967a07d-2e80-4973-b55a-f9e5dc19a81f",
   "metadata": {},
   "outputs": [],
   "source": [
    "listPrecios = [100]"
   ]
  },
  {
   "cell_type": "code",
   "execution_count": 40,
   "id": "f278506a-28c9-41d6-8f49-dfc879006540",
   "metadata": {},
   "outputs": [],
   "source": [
    "nPrecio = 0"
   ]
  },
  {
   "cell_type": "code",
   "execution_count": 41,
   "id": "570248af-d54d-441d-951a-6a2b755ff594",
   "metadata": {},
   "outputs": [],
   "source": [
    "pDianAnt =0"
   ]
  },
  {
   "cell_type": "code",
   "execution_count": 42,
   "id": "d8b76a4d-726b-41cc-a857-27519cd1e918",
   "metadata": {},
   "outputs": [],
   "source": [
    "for d in range(1,dias):\n",
    "    nPrecio =  listPrecios[d-1] * ( 1 + rd.uniform(-0.03,0.03))\n",
    "    listPrecios.append(round(nPrecio,2))\n",
    "\n",
    "    "
   ]
  },
  {
   "cell_type": "code",
   "execution_count": 43,
   "id": "ff629be2-ae26-4a16-b367-b53cfbdca8ad",
   "metadata": {},
   "outputs": [
    {
     "data": {
      "text/plain": [
       "[100,\n",
       " 99.1,\n",
       " 97.2,\n",
       " 99.9,\n",
       " 100.2,\n",
       " 100.32,\n",
       " 100.51,\n",
       " 103.44,\n",
       " 103.74,\n",
       " 106.12,\n",
       " 109.26,\n",
       " 107.99,\n",
       " 109.84,\n",
       " 111.34,\n",
       " 112.8,\n",
       " 114.17,\n",
       " 113.85,\n",
       " 112.73,\n",
       " 113.34,\n",
       " 113.98]"
      ]
     },
     "execution_count": 43,
     "metadata": {},
     "output_type": "execute_result"
    }
   ],
   "source": [
    "listPrecios"
   ]
  },
  {
   "cell_type": "code",
   "execution_count": null,
   "id": "61afdff1-78fc-4eca-a98b-2e53257afd7d",
   "metadata": {},
   "outputs": [],
   "source": []
  }
 ],
 "metadata": {
  "kernelspec": {
   "display_name": "Python 3 (ipykernel)",
   "language": "python",
   "name": "python3"
  },
  "language_info": {
   "codemirror_mode": {
    "name": "ipython",
    "version": 3
   },
   "file_extension": ".py",
   "mimetype": "text/x-python",
   "name": "python",
   "nbconvert_exporter": "python",
   "pygments_lexer": "ipython3",
   "version": "3.13.1"
  }
 },
 "nbformat": 4,
 "nbformat_minor": 5
}
