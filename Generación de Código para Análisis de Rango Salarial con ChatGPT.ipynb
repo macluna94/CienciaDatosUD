{
 "cells": [
  {
   "cell_type": "code",
   "execution_count": 1,
   "id": "b4cbf24e-3231-4619-81aa-d055c2b6300f",
   "metadata": {},
   "outputs": [],
   "source": [
    "import pandas as pd"
   ]
  },
  {
   "cell_type": "code",
   "execution_count": 2,
   "id": "c9fe835f-0650-4ea9-ae75-874a0746e483",
   "metadata": {},
   "outputs": [],
   "source": [
    "# Definir la ruta del archivo CSV\n",
    "ruta_csv = r\"C:\\Users\\manuell\\Videos\\CienciaDatos_AN\\sueldosporcarrera.csv\""
   ]
  },
  {
   "cell_type": "code",
   "execution_count": 3,
   "id": "82cab843-5d59-4492-bb3f-1aad9414f11f",
   "metadata": {},
   "outputs": [],
   "source": [
    "# Cargar el archivo CSV\n",
    "df = pd.read_csv(ruta_csv)"
   ]
  },
  {
   "cell_type": "code",
   "execution_count": 5,
   "id": "e99e8f1a-ee35-43d5-b6fe-1183d3ff5419",
   "metadata": {},
   "outputs": [],
   "source": [
    "# Eliminar filas con valores nulos\n",
    "df = df.dropna()    "
   ]
  },
  {
   "cell_type": "code",
   "execution_count": 7,
   "id": "e2064664-9596-4346-aa46-2d5a1ddf22ae",
   "metadata": {},
   "outputs": [],
   "source": [
    "# Calcular el aumento porcentual\n",
    "df['Aumento Porcentual'] = ((df['Salario Medio con Experiencia'] - df['Salario Medio Principiante']) / df['Salario Medio Principiante']) * 100"
   ]
  },
  {
   "cell_type": "code",
   "execution_count": 9,
   "id": "8a5a8151-62e1-4324-bb20-1e0aad9bebde",
   "metadata": {},
   "outputs": [],
   "source": [
    "# Encontrar la carrera con el mayor aumento porcentual\n",
    "max_idx = df['Aumento Porcentual'].idxmax()\n",
    "CarreraAum = df.loc[max_idx, 'Carrera']  \n",
    "# Ajusta el nombre de la columna de carrera si es diferente\n",
    "ValorAu = df.loc[max_idx, 'Aumento Porcentual']"
   ]
  },
  {
   "cell_type": "code",
   "execution_count": 11,
   "id": "93b1b9f8-6665-4d26-9b29-b7b4aad22e27",
   "metadata": {},
   "outputs": [
    {
     "name": "stdout",
     "output_type": "stream",
     "text": [
      "La carrera con mayor aumento porcentual es: Matematicas\n",
      "El mayor aumento porcentual es: 103.52%\n"
     ]
    }
   ],
   "source": [
    "# Mostrar los resultados\n",
    "print(f\"La carrera con mayor aumento porcentual es: {CarreraAum}\")\n",
    "print(f\"El mayor aumento porcentual es: {ValorAu:.2f}%\")"
   ]
  },
  {
   "cell_type": "code",
   "execution_count": null,
   "id": "775ff7ab-7d43-408a-a3c4-1744a96e7c5c",
   "metadata": {},
   "outputs": [],
   "source": []
  }
 ],
 "metadata": {
  "kernelspec": {
   "display_name": "Python 3 (ipykernel)",
   "language": "python",
   "name": "python3"
  },
  "language_info": {
   "codemirror_mode": {
    "name": "ipython",
    "version": 3
   },
   "file_extension": ".py",
   "mimetype": "text/x-python",
   "name": "python",
   "nbconvert_exporter": "python",
   "pygments_lexer": "ipython3",
   "version": "3.13.1"
  }
 },
 "nbformat": 4,
 "nbformat_minor": 5
}
